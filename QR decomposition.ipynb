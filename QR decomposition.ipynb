{
 "cells": [
  {
   "cell_type": "code",
   "execution_count": 1,
   "metadata": {},
   "outputs": [],
   "source": [
    "import numpy as np\n",
    "from numpy import linalg as la\n",
    "import copy"
   ]
  },
  {
   "cell_type": "code",
   "execution_count": 47,
   "metadata": {},
   "outputs": [],
   "source": [
    "A = np.array([\n",
    "              [1, 2, 3], \n",
    "              [4, 2, 1], \n",
    "              [19, 12, -8], \n",
    "              [7, 100, -1]\n",
    "            ])  "
   ]
  },
  {
   "cell_type": "code",
   "execution_count": 52,
   "metadata": {},
   "outputs": [],
   "source": [
    "B = np.array([\n",
    "              [15.3, 18.4, -192.1, 50.0], \n",
    "              [900.3, 510.1, 246.1, 741.9], \n",
    "              [109, -12.5, -8.1, 15.5], \n",
    "              [180, -651.1, 852.7, 2003.9],\n",
    "              [85.2, 16.4, -5.2, 19.2]\n",
    "             ]) "
   ]
  },
  {
   "cell_type": "code",
   "execution_count": 97,
   "metadata": {},
   "outputs": [],
   "source": [
    "C = 200*np.random.random_sample((6, 4)) - 100  "
   ]
  },
  {
   "cell_type": "code",
   "execution_count": 98,
   "metadata": {},
   "outputs": [
    {
     "data": {
      "text/plain": [
       "array([[ 64.99918469,  12.24666546, -94.79928714, -37.38040955],\n",
       "       [-91.31316505,  62.94100901, -14.2887801 ,  17.07789134],\n",
       "       [ 68.9306603 ,  20.66498986,  84.67540034,  36.32856451],\n",
       "       [-44.08363725,  -8.05846585, -33.13885347,  61.23181886],\n",
       "       [-39.90585863, -86.13945322, -23.91922931,  52.34589085],\n",
       "       [ 85.66254135, -47.78976248,   7.89245575, -67.31636365]])"
      ]
     },
     "execution_count": 98,
     "metadata": {},
     "output_type": "execute_result"
    }
   ],
   "source": [
    "C"
   ]
  },
  {
   "cell_type": "markdown",
   "metadata": {},
   "source": [
    "## Classical Schmidt Algorithm"
   ]
  },
  {
   "cell_type": "code",
   "execution_count": 56,
   "metadata": {},
   "outputs": [],
   "source": [
    "def classical_Schmidt_algorithm(A):\n",
    "    m = A.shape[0]\n",
    "    n = A.shape[1]\n",
    "    Q = copy.deepcopy(A.astype(float)) \n",
    "    R = np.array([np.zeros(n) for i in range(n)])\n",
    "    \n",
    "    s = 0\n",
    "    \n",
    "    for k in range(n):\n",
    "        for i in range(k):\n",
    "            s = 0\n",
    "            \n",
    "            for j in range(m):\n",
    "                s = s + Q[j, i] * Q[j, k]\n",
    "            R[i, k] = s\n",
    "            \n",
    "            for j in range(m):\n",
    "                Q[j, k] = Q[j, k] - Q[j, i] * R[i, k]\n",
    "        \n",
    "        s = 0\n",
    "        for j in range(m):\n",
    "            s = s + Q[j, k]**2\n",
    "        R[k, k] = np.sqrt(s)\n",
    "        \n",
    "        for j in range(m):\n",
    "            Q[j, k] = Q[j, k] / R[k, k]\n",
    "    return Q, R"
   ]
  },
  {
   "cell_type": "code",
   "execution_count": 62,
   "metadata": {},
   "outputs": [],
   "source": [
    "Q, R = classical_Schmidt_algorithm(A)  "
   ]
  },
  {
   "cell_type": "code",
   "execution_count": 63,
   "metadata": {},
   "outputs": [
    {
     "data": {
      "text/plain": [
       "array([[ 0.04839339, -0.00218694,  0.78615752],\n",
       "       [ 0.19357357, -0.07544955,  0.5958489 ],\n",
       "       [ 0.91947445, -0.33059295, -0.16388063],\n",
       "       [ 0.33875374,  0.94075017, -0.00797445]])"
      ]
     },
     "execution_count": 63,
     "metadata": {},
     "output_type": "execute_result"
    }
   ],
   "source": [
    "Q"
   ]
  },
  {
   "cell_type": "code",
   "execution_count": 64,
   "metadata": {},
   "outputs": [
    {
     "data": {
      "text/plain": [
       "array([[20.66397832, 45.39300155, -7.35579556],\n",
       "       [ 0.        , 89.9526287 ,  1.62198305],\n",
       "       [ 0.        ,  0.        ,  4.27334092]])"
      ]
     },
     "execution_count": 64,
     "metadata": {},
     "output_type": "execute_result"
    }
   ],
   "source": [
    "R"
   ]
  },
  {
   "cell_type": "code",
   "execution_count": 65,
   "metadata": {},
   "outputs": [
    {
     "data": {
      "text/plain": [
       "array([[  1.,   2.,   3.],\n",
       "       [  4.,   2.,   1.],\n",
       "       [ 19.,  12.,  -8.],\n",
       "       [  7., 100.,  -1.]])"
      ]
     },
     "execution_count": 65,
     "metadata": {},
     "output_type": "execute_result"
    }
   ],
   "source": [
    "Q.dot(R) "
   ]
  },
  {
   "cell_type": "code",
   "execution_count": 66,
   "metadata": {},
   "outputs": [
    {
     "data": {
      "text/plain": [
       "array([[  1,   2,   3],\n",
       "       [  4,   2,   1],\n",
       "       [ 19,  12,  -8],\n",
       "       [  7, 100,  -1]])"
      ]
     },
     "execution_count": 66,
     "metadata": {},
     "output_type": "execute_result"
    }
   ],
   "source": [
    "A"
   ]
  },
  {
   "cell_type": "markdown",
   "metadata": {},
   "source": [
    "## Modified Gram Schmidt"
   ]
  },
  {
   "cell_type": "code",
   "execution_count": 67,
   "metadata": {},
   "outputs": [],
   "source": [
    "def modified_Gram_Schmidt(A):\n",
    "    m = A.shape[0]\n",
    "    n = A.shape[1]\n",
    "    Q = copy.deepcopy(A.astype(float)) \n",
    "    R = np.array([np.zeros(n) for i in range(n)])\n",
    "    \n",
    "    for k in range(n):\n",
    "        s = 0\n",
    "        for j in range(m):\n",
    "            s += Q[j, k]**2\n",
    "        \n",
    "        R[k, k] = np.sqrt(s)\n",
    "        \n",
    "        for j in range(m):\n",
    "            Q[j, k] = Q[j, k] / R[k, k]\n",
    "        \n",
    "        for i in range(k+1, n):\n",
    "            s = 0\n",
    "            \n",
    "            for j in range(m):\n",
    "                s += Q[j, i] * Q[j, k]\n",
    "            \n",
    "            R[k, i] = s\n",
    "            \n",
    "            for j in range(m):\n",
    "                Q[j, i] = Q[j, i] - R[k, i] * Q[j, k]\n",
    "\n",
    "    return Q, R"
   ]
  },
  {
   "cell_type": "code",
   "execution_count": 68,
   "metadata": {},
   "outputs": [],
   "source": [
    "Qm, Rm = modified_Gram_Schmidt(B)  "
   ]
  },
  {
   "cell_type": "code",
   "execution_count": 69,
   "metadata": {},
   "outputs": [
    {
     "data": {
      "text/plain": [
       "array([[ 0.01647626,  0.01663528, -0.81709036,  0.57584656],\n",
       "       [ 0.96951487,  0.206036  ,  0.08967833,  0.09277323],\n",
       "       [ 0.1173799 , -0.07527863, -0.50146756, -0.72427369],\n",
       "       [ 0.19383836, -0.97521914,  0.05011402,  0.09390553],\n",
       "       [ 0.09175016, -0.02352009, -0.26521689, -0.35553234]])"
      ]
     },
     "execution_count": 69,
     "metadata": {},
     "output_type": "execute_result"
    }
   ],
   "source": [
    "Qm"
   ]
  },
  {
   "cell_type": "code",
   "execution_count": 70,
   "metadata": {},
   "outputs": [
    {
     "data": {
      "text/plain": [
       "array([[  928.60875507,   368.68199673,   399.29061402,  1112.12058292],\n",
       "       [    0.        ,   740.92548565,  -783.32747637, -1802.17016822],\n",
       "       [    0.        ,     0.        ,   227.20614059,   113.23641894],\n",
       "       [    0.        ,     0.        ,     0.        ,   267.74562041]])"
      ]
     },
     "execution_count": 70,
     "metadata": {},
     "output_type": "execute_result"
    }
   ],
   "source": [
    "Rm"
   ]
  },
  {
   "cell_type": "code",
   "execution_count": 71,
   "metadata": {},
   "outputs": [
    {
     "data": {
      "text/plain": [
       "array([[  15.3,   18.4, -192.1,   50. ],\n",
       "       [ 900.3,  510.1,  246.1,  741.9],\n",
       "       [ 109. ,  -12.5,   -8.1,   15.5],\n",
       "       [ 180. , -651.1,  852.7, 2003.9],\n",
       "       [  85.2,   16.4,   -5.2,   19.2]])"
      ]
     },
     "execution_count": 71,
     "metadata": {},
     "output_type": "execute_result"
    }
   ],
   "source": [
    "Qm.dot(Rm)"
   ]
  },
  {
   "cell_type": "code",
   "execution_count": 72,
   "metadata": {},
   "outputs": [
    {
     "data": {
      "text/plain": [
       "array([[  15.3,   18.4, -192.1,   50. ],\n",
       "       [ 900.3,  510.1,  246.1,  741.9],\n",
       "       [ 109. ,  -12.5,   -8.1,   15.5],\n",
       "       [ 180. , -651.1,  852.7, 2003.9],\n",
       "       [  85.2,   16.4,   -5.2,   19.2]])"
      ]
     },
     "execution_count": 72,
     "metadata": {},
     "output_type": "execute_result"
    }
   ],
   "source": [
    "B"
   ]
  },
  {
   "cell_type": "code",
   "execution_count": null,
   "metadata": {},
   "outputs": [],
   "source": []
  },
  {
   "cell_type": "markdown",
   "metadata": {},
   "source": [
    "## Reorthogonalization "
   ]
  },
  {
   "cell_type": "code",
   "execution_count": 73,
   "metadata": {},
   "outputs": [],
   "source": [
    "def reorthogonalization(A):\n",
    "    m = A.shape[0]\n",
    "    n = A.shape[1]\n",
    "    Q = copy.deepcopy(A.astype(float)) \n",
    "    R = np.array([np.zeros(n) for i in range(n)])\n",
    "    \n",
    "    \n",
    "    for k in range(n):\n",
    "        t = 0\n",
    "        tt = 0\n",
    "        \n",
    "        for j in range(m):\n",
    "            t += Q[j, k]**2\n",
    "\n",
    "\n",
    "        while True:\n",
    "            for i in range(k):\n",
    "                s = 0\n",
    "                for j in range(m):\n",
    "                    s += Q[j, i] * Q[j, k]\n",
    "                    \n",
    "                if tt == 0:\n",
    "                    R[i, k] = s\n",
    "                    \n",
    "                for j in range(m):\n",
    "                    Q[j, k] -= s*Q[j, i]\n",
    "            \n",
    "            tt = 0\n",
    "            for j in range(m):\n",
    "                tt += Q[j, k]**2\n",
    "            \n",
    "            if tt < t/100:\n",
    "                t = tt\n",
    "            else:\n",
    "                break\n",
    "        R[k, k] = np.sqrt(tt)\n",
    "\n",
    "        for j in range(m):\n",
    "            Q[j, k] = Q[j, k] / R[k, k]\n",
    "    return Q, R"
   ]
  },
  {
   "cell_type": "code",
   "execution_count": 99,
   "metadata": {},
   "outputs": [],
   "source": [
    "Qr, Rr = reorthogonalization(C)  "
   ]
  },
  {
   "cell_type": "code",
   "execution_count": 100,
   "metadata": {},
   "outputs": [
    {
     "data": {
      "text/plain": [
       "array([[ 0.38714456,  0.17947025, -0.82099793,  0.26309728],\n",
       "       [-0.54387444,  0.43042563, -0.06976595, -0.13936267],\n",
       "       [ 0.410561  ,  0.25571091,  0.53399581,  0.59989055],\n",
       "       [-0.26256853, -0.11961265, -0.18733927,  0.54805642],\n",
       "       [-0.23768507, -0.77975007, -0.02744988,  0.26439356],\n",
       "       [ 0.51021851, -0.30792657,  0.00970034, -0.42569873]])"
      ]
     },
     "execution_count": 100,
     "metadata": {},
     "output_type": "execute_result"
    }
   ],
   "source": [
    "Qr"
   ]
  },
  {
   "cell_type": "code",
   "execution_count": 101,
   "metadata": {},
   "outputs": [
    {
     "data": {
      "text/plain": [
       "array([[167.89383451, -22.79979647,  24.24803166, -71.71019916],\n",
       "       [  0.        , 117.42047602,  18.67306475, -17.48061465],\n",
       "       [  0.        ,   0.        , 130.98454532,  35.33608064],\n",
       "       [  0.        ,   0.        ,   0.        ,  85.63335558]])"
      ]
     },
     "execution_count": 101,
     "metadata": {},
     "output_type": "execute_result"
    }
   ],
   "source": [
    "Rr"
   ]
  },
  {
   "cell_type": "code",
   "execution_count": 102,
   "metadata": {},
   "outputs": [
    {
     "data": {
      "text/plain": [
       "array([[ 64.99918469,  12.24666546, -94.79928714, -37.38040955],\n",
       "       [-91.31316505,  62.94100901, -14.2887801 ,  17.07789134],\n",
       "       [ 68.9306603 ,  20.66498986,  84.67540034,  36.32856451],\n",
       "       [-44.08363725,  -8.05846585, -33.13885347,  61.23181886],\n",
       "       [-39.90585863, -86.13945322, -23.91922931,  52.34589085],\n",
       "       [ 85.66254135, -47.78976248,   7.89245575, -67.31636365]])"
      ]
     },
     "execution_count": 102,
     "metadata": {},
     "output_type": "execute_result"
    }
   ],
   "source": [
    "Qr.dot(Rr) "
   ]
  },
  {
   "cell_type": "code",
   "execution_count": 103,
   "metadata": {},
   "outputs": [
    {
     "data": {
      "text/plain": [
       "array([[ 64.99918469,  12.24666546, -94.79928714, -37.38040955],\n",
       "       [-91.31316505,  62.94100901, -14.2887801 ,  17.07789134],\n",
       "       [ 68.9306603 ,  20.66498986,  84.67540034,  36.32856451],\n",
       "       [-44.08363725,  -8.05846585, -33.13885347,  61.23181886],\n",
       "       [-39.90585863, -86.13945322, -23.91922931,  52.34589085],\n",
       "       [ 85.66254135, -47.78976248,   7.89245575, -67.31636365]])"
      ]
     },
     "execution_count": 103,
     "metadata": {},
     "output_type": "execute_result"
    }
   ],
   "source": [
    "C"
   ]
  },
  {
   "cell_type": "code",
   "execution_count": null,
   "metadata": {},
   "outputs": [],
   "source": []
  },
  {
   "cell_type": "code",
   "execution_count": null,
   "metadata": {},
   "outputs": [],
   "source": []
  }
 ],
 "metadata": {
  "kernelspec": {
   "display_name": "Python 3",
   "language": "python",
   "name": "python3"
  },
  "language_info": {
   "codemirror_mode": {
    "name": "ipython",
    "version": 3
   },
   "file_extension": ".py",
   "mimetype": "text/x-python",
   "name": "python",
   "nbconvert_exporter": "python",
   "pygments_lexer": "ipython3",
   "version": "3.6.4"
  }
 },
 "nbformat": 4,
 "nbformat_minor": 2
}
