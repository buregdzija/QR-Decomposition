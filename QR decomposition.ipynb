{
 "cells": [
  {
   "cell_type": "code",
   "execution_count": 1,
   "metadata": {},
   "outputs": [],
   "source": [
    "import numpy as np\n",
    "from numpy import linalg as la\n",
    "import copy"
   ]
  },
  {
   "cell_type": "code",
   "execution_count": 2,
   "metadata": {},
   "outputs": [],
   "source": [
    "A = np.array([[1, 2, 3], [4, 2, 1], [19, 12, -8], [7, 100, -1]])\n",
    "B = np.array([[1, 2], [4, 2], [19, 12], [7, 100]])"
   ]
  },
  {
   "cell_type": "code",
   "execution_count": 3,
   "metadata": {},
   "outputs": [],
   "source": [
    "laqr = la.qr(B) "
   ]
  },
  {
   "cell_type": "markdown",
   "metadata": {},
   "source": [
    "## Classical Schmidt Algorithm"
   ]
  },
  {
   "cell_type": "code",
   "execution_count": 9,
   "metadata": {},
   "outputs": [],
   "source": [
    "def classical_Schmidt_algorithm(A):\n",
    "    m = A.shape[0]\n",
    "    n = A.shape[1]\n",
    "    Q = copy.deepcopy(A.astype(float)) \n",
    "    R = np.array([np.zeros(n) for i in range(n)])\n",
    "    \n",
    "    s = 0\n",
    "    \n",
    "    for k in range(n):\n",
    "        for i in range(k):\n",
    "            s = 0\n",
    "            \n",
    "            for j in range(m):\n",
    "                s = s + Q[j, i] * Q[j, k]\n",
    "            R[i, k] = s\n",
    "            \n",
    "            for j in range(m):\n",
    "                Q[j, k] = Q[j, k] - Q[j, i] * R[i, k]\n",
    "        \n",
    "        s = 0\n",
    "        for j in range(m):\n",
    "            s = s + Q[j, k]**2\n",
    "        R[k, k] = np.sqrt(s)\n",
    "        \n",
    "        for j in range(m):\n",
    "            Q[j, k] = Q[j, k] / R[k, k]\n",
    "    return Q, R"
   ]
  },
  {
   "cell_type": "code",
   "execution_count": 21,
   "metadata": {},
   "outputs": [],
   "source": [
    "Q, R = classical_Schmidt_algorithm(B) "
   ]
  },
  {
   "cell_type": "code",
   "execution_count": 22,
   "metadata": {},
   "outputs": [
    {
     "data": {
      "text/plain": [
       "array([[ 0.04839339, -0.00218694],\n",
       "       [ 0.19357357, -0.07544955],\n",
       "       [ 0.91947445, -0.33059295],\n",
       "       [ 0.33875374,  0.94075017]])"
      ]
     },
     "execution_count": 22,
     "metadata": {},
     "output_type": "execute_result"
    }
   ],
   "source": [
    "Q"
   ]
  },
  {
   "cell_type": "code",
   "execution_count": 23,
   "metadata": {},
   "outputs": [
    {
     "data": {
      "text/plain": [
       "array([[20.66397832, 45.39300155],\n",
       "       [ 0.        , 89.9526287 ]])"
      ]
     },
     "execution_count": 23,
     "metadata": {},
     "output_type": "execute_result"
    }
   ],
   "source": [
    "R"
   ]
  },
  {
   "cell_type": "code",
   "execution_count": 24,
   "metadata": {},
   "outputs": [
    {
     "data": {
      "text/plain": [
       "array([[  1.,   2.],\n",
       "       [  4.,   2.],\n",
       "       [ 19.,  12.],\n",
       "       [  7., 100.]])"
      ]
     },
     "execution_count": 24,
     "metadata": {},
     "output_type": "execute_result"
    }
   ],
   "source": [
    "Q.dot(R) "
   ]
  },
  {
   "cell_type": "markdown",
   "metadata": {},
   "source": [
    "## Modified Gram Schmidt"
   ]
  },
  {
   "cell_type": "code",
   "execution_count": 25,
   "metadata": {},
   "outputs": [],
   "source": [
    "def modified_Gram_Schmidt(A):\n",
    "    m = A.shape[0]\n",
    "    n = A.shape[1]\n",
    "    Q = copy.deepcopy(A.astype(float)) \n",
    "    R = np.array([np.zeros(n) for i in range(n)])\n",
    "    \n",
    "    for k in range(n):\n",
    "        s = 0\n",
    "        for j in range(m):\n",
    "            s += Q[j, k]**2\n",
    "        \n",
    "        R[k, k] = np.sqrt(s)\n",
    "        \n",
    "        for j in range(m):\n",
    "            Q[j, k] = Q[j, k] / R[k, k]\n",
    "        \n",
    "        for i in range(k+1, n):\n",
    "            s = 0\n",
    "            \n",
    "            for j in range(m):\n",
    "                s += Q[j, i] * Q[j, k]\n",
    "            \n",
    "            R[k, i] = s\n",
    "            \n",
    "            for j in range(m):\n",
    "                Q[j, i] = Q[j, i] - R[k, i] * Q[j, k]\n",
    "\n",
    "    return Q, R"
   ]
  },
  {
   "cell_type": "code",
   "execution_count": 26,
   "metadata": {},
   "outputs": [],
   "source": [
    "Qm, Rm = modified_Gram_Schmidt(A) "
   ]
  },
  {
   "cell_type": "code",
   "execution_count": 27,
   "metadata": {},
   "outputs": [
    {
     "data": {
      "text/plain": [
       "array([[ 0.04839339, -0.00218694,  0.78615752],\n",
       "       [ 0.19357357, -0.07544955,  0.5958489 ],\n",
       "       [ 0.91947445, -0.33059295, -0.16388063],\n",
       "       [ 0.33875374,  0.94075017, -0.00797445]])"
      ]
     },
     "execution_count": 27,
     "metadata": {},
     "output_type": "execute_result"
    }
   ],
   "source": [
    "Qm"
   ]
  },
  {
   "cell_type": "code",
   "execution_count": 28,
   "metadata": {},
   "outputs": [
    {
     "data": {
      "text/plain": [
       "array([[20.66397832, 45.39300155, -7.35579556],\n",
       "       [ 0.        , 89.9526287 ,  1.62198305],\n",
       "       [ 0.        ,  0.        ,  4.27334092]])"
      ]
     },
     "execution_count": 28,
     "metadata": {},
     "output_type": "execute_result"
    }
   ],
   "source": [
    "Rm"
   ]
  },
  {
   "cell_type": "code",
   "execution_count": 29,
   "metadata": {},
   "outputs": [
    {
     "data": {
      "text/plain": [
       "array([[  1.,   2.,   3.],\n",
       "       [  4.,   2.,   1.],\n",
       "       [ 19.,  12.,  -8.],\n",
       "       [  7., 100.,  -1.]])"
      ]
     },
     "execution_count": 29,
     "metadata": {},
     "output_type": "execute_result"
    }
   ],
   "source": [
    "Qm.dot(Rm)"
   ]
  },
  {
   "cell_type": "code",
   "execution_count": null,
   "metadata": {},
   "outputs": [],
   "source": []
  },
  {
   "cell_type": "code",
   "execution_count": null,
   "metadata": {},
   "outputs": [],
   "source": []
  },
  {
   "cell_type": "markdown",
   "metadata": {},
   "source": [
    "## Reorthogonalization "
   ]
  },
  {
   "cell_type": "code",
   "execution_count": 30,
   "metadata": {},
   "outputs": [],
   "source": [
    "def reorthogonalization(A):\n",
    "    m = A.shape[0]\n",
    "    n = A.shape[1]\n",
    "    Q = copy.deepcopy(A.astype(float)) \n",
    "    R = np.array([np.zeros(n) for i in range(n)])\n",
    "    \n",
    "    \n",
    "    for k in range(n):\n",
    "        t = 0\n",
    "        tt = 0\n",
    "        \n",
    "        for j in range(m):\n",
    "            t += Q[j, k]**2\n",
    "\n",
    "\n",
    "        while True:\n",
    "            for i in range(k):\n",
    "                s = 0\n",
    "                for j in range(m):\n",
    "                    s += Q[j, i] * Q[j, k]\n",
    "                    \n",
    "                if tt == 0:\n",
    "                    R[i, k] = s\n",
    "                    \n",
    "                for j in range(m):\n",
    "                    Q[j, k] -= s*Q[j, i]\n",
    "            \n",
    "            tt = 0\n",
    "            for j in range(m):\n",
    "                tt += Q[j, k]**2\n",
    "            \n",
    "            if tt < t/100:\n",
    "                t = tt\n",
    "            else:\n",
    "                break\n",
    "        R[k, k] = np.sqrt(tt)\n",
    "\n",
    "        for j in range(m):\n",
    "            Q[j, k] = Q[j, k] / R[k, k]\n",
    "    return Q, R"
   ]
  },
  {
   "cell_type": "code",
   "execution_count": 31,
   "metadata": {},
   "outputs": [],
   "source": [
    "Qr, Rr = reorthogonalization(A) "
   ]
  },
  {
   "cell_type": "code",
   "execution_count": 32,
   "metadata": {},
   "outputs": [
    {
     "data": {
      "text/plain": [
       "array([[ 0.04839339, -0.00218694,  0.78615752],\n",
       "       [ 0.19357357, -0.07544955,  0.5958489 ],\n",
       "       [ 0.91947445, -0.33059295, -0.16388063],\n",
       "       [ 0.33875374,  0.94075017, -0.00797445]])"
      ]
     },
     "execution_count": 32,
     "metadata": {},
     "output_type": "execute_result"
    }
   ],
   "source": [
    "Qr"
   ]
  },
  {
   "cell_type": "code",
   "execution_count": 33,
   "metadata": {},
   "outputs": [
    {
     "data": {
      "text/plain": [
       "array([[20.66397832, 45.39300155, -7.35579556],\n",
       "       [ 0.        , 89.9526287 ,  1.62198305],\n",
       "       [ 0.        ,  0.        ,  4.27334092]])"
      ]
     },
     "execution_count": 33,
     "metadata": {},
     "output_type": "execute_result"
    }
   ],
   "source": [
    "Rr"
   ]
  },
  {
   "cell_type": "code",
   "execution_count": 34,
   "metadata": {},
   "outputs": [
    {
     "data": {
      "text/plain": [
       "array([[  1.,   2.,   3.],\n",
       "       [  4.,   2.,   1.],\n",
       "       [ 19.,  12.,  -8.],\n",
       "       [  7., 100.,  -1.]])"
      ]
     },
     "execution_count": 34,
     "metadata": {},
     "output_type": "execute_result"
    }
   ],
   "source": [
    "Qr.dot(Rr) "
   ]
  },
  {
   "cell_type": "code",
   "execution_count": null,
   "metadata": {},
   "outputs": [],
   "source": []
  },
  {
   "cell_type": "code",
   "execution_count": null,
   "metadata": {},
   "outputs": [],
   "source": []
  }
 ],
 "metadata": {
  "kernelspec": {
   "display_name": "Python 3",
   "language": "python",
   "name": "python3"
  },
  "language_info": {
   "codemirror_mode": {
    "name": "ipython",
    "version": 3
   },
   "file_extension": ".py",
   "mimetype": "text/x-python",
   "name": "python",
   "nbconvert_exporter": "python",
   "pygments_lexer": "ipython3",
   "version": "3.6.4"
  }
 },
 "nbformat": 4,
 "nbformat_minor": 2
}
